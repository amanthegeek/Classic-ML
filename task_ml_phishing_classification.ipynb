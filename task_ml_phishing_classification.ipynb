{
 "cells": [
  {
   "cell_type": "markdown",
   "metadata": {},
   "source": [
    "<b>Loading the basic libraries</b>"
   ]
  },
  {
   "cell_type": "code",
   "execution_count": 1,
   "metadata": {},
   "outputs": [],
   "source": [
    "import numpy as np\n",
    "import pandas as pd\n",
    "import matplotlib.pyplot as plt\n",
    "import seaborn as sns\n",
    "pd.set_option('display.max_columns', 500)\n",
    "import warnings\n",
    "warnings.filterwarnings('ignore')"
   ]
  },
  {
   "cell_type": "markdown",
   "metadata": {},
   "source": [
    "<b>Loading the DataSet</b>"
   ]
  },
  {
   "cell_type": "code",
   "execution_count": 2,
   "metadata": {},
   "outputs": [],
   "source": [
    "df = pd.read_csv('Phishing Data.csv')"
   ]
  },
  {
   "cell_type": "markdown",
   "metadata": {},
   "source": [
    "<h2>EXPLORATORY DATA ANALYSIS</h2>"
   ]
  },
  {
   "cell_type": "markdown",
   "metadata": {},
   "source": [
    "<b>Checking the head of the DataSet</b>"
   ]
  },
  {
   "cell_type": "code",
   "execution_count": 3,
   "metadata": {},
   "outputs": [
    {
     "data": {
      "text/html": [
       "<div>\n",
       "<style scoped>\n",
       "    .dataframe tbody tr th:only-of-type {\n",
       "        vertical-align: middle;\n",
       "    }\n",
       "\n",
       "    .dataframe tbody tr th {\n",
       "        vertical-align: top;\n",
       "    }\n",
       "\n",
       "    .dataframe thead th {\n",
       "        text-align: right;\n",
       "    }\n",
       "</style>\n",
       "<table border=\"1\" class=\"dataframe\">\n",
       "  <thead>\n",
       "    <tr style=\"text-align: right;\">\n",
       "      <th></th>\n",
       "      <th>having_IP_Address</th>\n",
       "      <th>URL_Length</th>\n",
       "      <th>Shortining_Service</th>\n",
       "      <th>having_At_Symbol</th>\n",
       "      <th>double_slash_redirecting</th>\n",
       "      <th>Prefix_Suffix</th>\n",
       "      <th>having_Sub_Domain</th>\n",
       "      <th>SSLfinal_State</th>\n",
       "      <th>Domain_registeration_length</th>\n",
       "      <th>Favicon</th>\n",
       "      <th>port</th>\n",
       "      <th>HTTPS_token</th>\n",
       "      <th>Request_URL</th>\n",
       "      <th>URL_of_Anchor</th>\n",
       "      <th>Links_in_tags</th>\n",
       "      <th>SFH</th>\n",
       "      <th>Submitting_to_email</th>\n",
       "      <th>Abnormal_URL</th>\n",
       "      <th>Redirect</th>\n",
       "      <th>on_mouseover</th>\n",
       "      <th>RightClick</th>\n",
       "      <th>popUpWidnow</th>\n",
       "      <th>Iframe</th>\n",
       "      <th>age_of_domain</th>\n",
       "      <th>DNSRecord</th>\n",
       "      <th>web_traffic</th>\n",
       "      <th>Page_Rank</th>\n",
       "      <th>Google_Index</th>\n",
       "      <th>Links_pointing_to_page</th>\n",
       "      <th>Statistical_report</th>\n",
       "      <th>Result</th>\n",
       "    </tr>\n",
       "  </thead>\n",
       "  <tbody>\n",
       "    <tr>\n",
       "      <th>0</th>\n",
       "      <td>1</td>\n",
       "      <td>1</td>\n",
       "      <td>0</td>\n",
       "      <td>0</td>\n",
       "      <td>1</td>\n",
       "      <td>-1</td>\n",
       "      <td>-1</td>\n",
       "      <td>-1</td>\n",
       "      <td>0</td>\n",
       "      <td>0</td>\n",
       "      <td>0</td>\n",
       "      <td>1</td>\n",
       "      <td>1</td>\n",
       "      <td>-1</td>\n",
       "      <td>1</td>\n",
       "      <td>-1</td>\n",
       "      <td>1</td>\n",
       "      <td>1</td>\n",
       "      <td>0</td>\n",
       "      <td>0</td>\n",
       "      <td>0</td>\n",
       "      <td>0</td>\n",
       "      <td>0</td>\n",
       "      <td>-1</td>\n",
       "      <td>1</td>\n",
       "      <td>-1</td>\n",
       "      <td>-1</td>\n",
       "      <td>0</td>\n",
       "      <td>1</td>\n",
       "      <td>1</td>\n",
       "      <td>1</td>\n",
       "    </tr>\n",
       "    <tr>\n",
       "      <th>1</th>\n",
       "      <td>0</td>\n",
       "      <td>1</td>\n",
       "      <td>0</td>\n",
       "      <td>0</td>\n",
       "      <td>0</td>\n",
       "      <td>-1</td>\n",
       "      <td>0</td>\n",
       "      <td>1</td>\n",
       "      <td>0</td>\n",
       "      <td>0</td>\n",
       "      <td>0</td>\n",
       "      <td>1</td>\n",
       "      <td>1</td>\n",
       "      <td>0</td>\n",
       "      <td>-1</td>\n",
       "      <td>-1</td>\n",
       "      <td>0</td>\n",
       "      <td>0</td>\n",
       "      <td>0</td>\n",
       "      <td>0</td>\n",
       "      <td>0</td>\n",
       "      <td>0</td>\n",
       "      <td>0</td>\n",
       "      <td>-1</td>\n",
       "      <td>1</td>\n",
       "      <td>0</td>\n",
       "      <td>-1</td>\n",
       "      <td>0</td>\n",
       "      <td>1</td>\n",
       "      <td>0</td>\n",
       "      <td>1</td>\n",
       "    </tr>\n",
       "    <tr>\n",
       "      <th>2</th>\n",
       "      <td>0</td>\n",
       "      <td>0</td>\n",
       "      <td>0</td>\n",
       "      <td>0</td>\n",
       "      <td>0</td>\n",
       "      <td>-1</td>\n",
       "      <td>-1</td>\n",
       "      <td>-1</td>\n",
       "      <td>0</td>\n",
       "      <td>0</td>\n",
       "      <td>0</td>\n",
       "      <td>1</td>\n",
       "      <td>1</td>\n",
       "      <td>0</td>\n",
       "      <td>-1</td>\n",
       "      <td>-1</td>\n",
       "      <td>1</td>\n",
       "      <td>1</td>\n",
       "      <td>0</td>\n",
       "      <td>0</td>\n",
       "      <td>0</td>\n",
       "      <td>0</td>\n",
       "      <td>0</td>\n",
       "      <td>0</td>\n",
       "      <td>1</td>\n",
       "      <td>1</td>\n",
       "      <td>-1</td>\n",
       "      <td>0</td>\n",
       "      <td>0</td>\n",
       "      <td>1</td>\n",
       "      <td>1</td>\n",
       "    </tr>\n",
       "    <tr>\n",
       "      <th>3</th>\n",
       "      <td>0</td>\n",
       "      <td>0</td>\n",
       "      <td>0</td>\n",
       "      <td>0</td>\n",
       "      <td>0</td>\n",
       "      <td>-1</td>\n",
       "      <td>-1</td>\n",
       "      <td>-1</td>\n",
       "      <td>1</td>\n",
       "      <td>0</td>\n",
       "      <td>0</td>\n",
       "      <td>1</td>\n",
       "      <td>-1</td>\n",
       "      <td>0</td>\n",
       "      <td>0</td>\n",
       "      <td>-1</td>\n",
       "      <td>0</td>\n",
       "      <td>0</td>\n",
       "      <td>0</td>\n",
       "      <td>0</td>\n",
       "      <td>0</td>\n",
       "      <td>0</td>\n",
       "      <td>0</td>\n",
       "      <td>-1</td>\n",
       "      <td>1</td>\n",
       "      <td>1</td>\n",
       "      <td>-1</td>\n",
       "      <td>0</td>\n",
       "      <td>-1</td>\n",
       "      <td>0</td>\n",
       "      <td>1</td>\n",
       "    </tr>\n",
       "    <tr>\n",
       "      <th>4</th>\n",
       "      <td>0</td>\n",
       "      <td>0</td>\n",
       "      <td>1</td>\n",
       "      <td>0</td>\n",
       "      <td>0</td>\n",
       "      <td>-1</td>\n",
       "      <td>1</td>\n",
       "      <td>1</td>\n",
       "      <td>0</td>\n",
       "      <td>0</td>\n",
       "      <td>0</td>\n",
       "      <td>0</td>\n",
       "      <td>1</td>\n",
       "      <td>0</td>\n",
       "      <td>0</td>\n",
       "      <td>-1</td>\n",
       "      <td>0</td>\n",
       "      <td>0</td>\n",
       "      <td>0</td>\n",
       "      <td>1</td>\n",
       "      <td>0</td>\n",
       "      <td>1</td>\n",
       "      <td>0</td>\n",
       "      <td>-1</td>\n",
       "      <td>1</td>\n",
       "      <td>0</td>\n",
       "      <td>-1</td>\n",
       "      <td>0</td>\n",
       "      <td>1</td>\n",
       "      <td>0</td>\n",
       "      <td>0</td>\n",
       "    </tr>\n",
       "  </tbody>\n",
       "</table>\n",
       "</div>"
      ],
      "text/plain": [
       "   having_IP_Address  URL_Length  Shortining_Service  having_At_Symbol  \\\n",
       "0                  1           1                   0                 0   \n",
       "1                  0           1                   0                 0   \n",
       "2                  0           0                   0                 0   \n",
       "3                  0           0                   0                 0   \n",
       "4                  0           0                   1                 0   \n",
       "\n",
       "   double_slash_redirecting  Prefix_Suffix  having_Sub_Domain  SSLfinal_State  \\\n",
       "0                         1             -1                 -1              -1   \n",
       "1                         0             -1                  0               1   \n",
       "2                         0             -1                 -1              -1   \n",
       "3                         0             -1                 -1              -1   \n",
       "4                         0             -1                  1               1   \n",
       "\n",
       "   Domain_registeration_length  Favicon  port  HTTPS_token  Request_URL  \\\n",
       "0                            0        0     0            1            1   \n",
       "1                            0        0     0            1            1   \n",
       "2                            0        0     0            1            1   \n",
       "3                            1        0     0            1           -1   \n",
       "4                            0        0     0            0            1   \n",
       "\n",
       "   URL_of_Anchor  Links_in_tags  SFH  Submitting_to_email  Abnormal_URL  \\\n",
       "0             -1              1   -1                    1             1   \n",
       "1              0             -1   -1                    0             0   \n",
       "2              0             -1   -1                    1             1   \n",
       "3              0              0   -1                    0             0   \n",
       "4              0              0   -1                    0             0   \n",
       "\n",
       "   Redirect  on_mouseover  RightClick  popUpWidnow  Iframe  age_of_domain  \\\n",
       "0         0             0           0            0       0             -1   \n",
       "1         0             0           0            0       0             -1   \n",
       "2         0             0           0            0       0              0   \n",
       "3         0             0           0            0       0             -1   \n",
       "4         0             1           0            1       0             -1   \n",
       "\n",
       "   DNSRecord  web_traffic  Page_Rank  Google_Index  Links_pointing_to_page  \\\n",
       "0          1           -1         -1             0                       1   \n",
       "1          1            0         -1             0                       1   \n",
       "2          1            1         -1             0                       0   \n",
       "3          1            1         -1             0                      -1   \n",
       "4          1            0         -1             0                       1   \n",
       "\n",
       "   Statistical_report  Result  \n",
       "0                   1       1  \n",
       "1                   0       1  \n",
       "2                   1       1  \n",
       "3                   0       1  \n",
       "4                   0       0  "
      ]
     },
     "execution_count": 3,
     "metadata": {},
     "output_type": "execute_result"
    }
   ],
   "source": [
    "df.head()"
   ]
  },
  {
   "cell_type": "markdown",
   "metadata": {},
   "source": [
    "<p> <i>On a first glance, the DataSet appears to be very clean, organized and pre-processed with feature engineering techniques, in order to obtain categorical atteributes</i></p>"
   ]
  },
  {
   "cell_type": "markdown",
   "metadata": {},
   "source": [
    "<b>Overview of the DataSet</b>"
   ]
  },
  {
   "cell_type": "code",
   "execution_count": 4,
   "metadata": {},
   "outputs": [
    {
     "name": "stdout",
     "output_type": "stream",
     "text": [
      "<class 'pandas.core.frame.DataFrame'>\n",
      "RangeIndex: 2456 entries, 0 to 2455\n",
      "Data columns (total 31 columns):\n",
      " #   Column                       Non-Null Count  Dtype\n",
      "---  ------                       --------------  -----\n",
      " 0   having_IP_Address            2456 non-null   int64\n",
      " 1   URL_Length                   2456 non-null   int64\n",
      " 2   Shortining_Service           2456 non-null   int64\n",
      " 3   having_At_Symbol             2456 non-null   int64\n",
      " 4   double_slash_redirecting     2456 non-null   int64\n",
      " 5   Prefix_Suffix                2456 non-null   int64\n",
      " 6   having_Sub_Domain            2456 non-null   int64\n",
      " 7   SSLfinal_State               2456 non-null   int64\n",
      " 8   Domain_registeration_length  2456 non-null   int64\n",
      " 9   Favicon                      2456 non-null   int64\n",
      " 10  port                         2456 non-null   int64\n",
      " 11  HTTPS_token                  2456 non-null   int64\n",
      " 12  Request_URL                  2456 non-null   int64\n",
      " 13  URL_of_Anchor                2456 non-null   int64\n",
      " 14  Links_in_tags                2456 non-null   int64\n",
      " 15  SFH                          2456 non-null   int64\n",
      " 16  Submitting_to_email          2456 non-null   int64\n",
      " 17  Abnormal_URL                 2456 non-null   int64\n",
      " 18  Redirect                     2456 non-null   int64\n",
      " 19  on_mouseover                 2456 non-null   int64\n",
      " 20  RightClick                   2456 non-null   int64\n",
      " 21  popUpWidnow                  2456 non-null   int64\n",
      " 22  Iframe                       2456 non-null   int64\n",
      " 23  age_of_domain                2456 non-null   int64\n",
      " 24  DNSRecord                    2456 non-null   int64\n",
      " 25  web_traffic                  2456 non-null   int64\n",
      " 26  Page_Rank                    2456 non-null   int64\n",
      " 27  Google_Index                 2456 non-null   int64\n",
      " 28  Links_pointing_to_page       2456 non-null   int64\n",
      " 29  Statistical_report           2456 non-null   int64\n",
      " 30  Result                       2456 non-null   int64\n",
      "dtypes: int64(31)\n",
      "memory usage: 594.9 KB\n"
     ]
    }
   ],
   "source": [
    "df.info()"
   ]
  },
  {
   "cell_type": "markdown",
   "metadata": {},
   "source": [
    "<p><i> All the attributes, including the output variable are of integer DataType. So, DataType conversions are not needed</i></p>"
   ]
  },
  {
   "cell_type": "markdown",
   "metadata": {},
   "source": [
    "<b>Checking for Null values</b>"
   ]
  },
  {
   "cell_type": "code",
   "execution_count": 5,
   "metadata": {},
   "outputs": [
    {
     "data": {
      "text/plain": [
       "having_IP_Address              0\n",
       "URL_Length                     0\n",
       "Shortining_Service             0\n",
       "having_At_Symbol               0\n",
       "double_slash_redirecting       0\n",
       "Prefix_Suffix                  0\n",
       "having_Sub_Domain              0\n",
       "SSLfinal_State                 0\n",
       "Domain_registeration_length    0\n",
       "Favicon                        0\n",
       "port                           0\n",
       "HTTPS_token                    0\n",
       "Request_URL                    0\n",
       "URL_of_Anchor                  0\n",
       "Links_in_tags                  0\n",
       "SFH                            0\n",
       "Submitting_to_email            0\n",
       "Abnormal_URL                   0\n",
       "Redirect                       0\n",
       "on_mouseover                   0\n",
       "RightClick                     0\n",
       "popUpWidnow                    0\n",
       "Iframe                         0\n",
       "age_of_domain                  0\n",
       "DNSRecord                      0\n",
       "web_traffic                    0\n",
       "Page_Rank                      0\n",
       "Google_Index                   0\n",
       "Links_pointing_to_page         0\n",
       "Statistical_report             0\n",
       "Result                         0\n",
       "dtype: int64"
      ]
     },
     "execution_count": 5,
     "metadata": {},
     "output_type": "execute_result"
    }
   ],
   "source": [
    "df.isnull().sum()"
   ]
  },
  {
   "cell_type": "markdown",
   "metadata": {},
   "source": [
    "<p><i> No Null values are present. So, imputations are not required.</i></p>"
   ]
  },
  {
   "cell_type": "markdown",
   "metadata": {},
   "source": [
    "<b>Visualizing the correlation-coefficient among all the attributes</b>"
   ]
  },
  {
   "cell_type": "code",
   "execution_count": 6,
   "metadata": {},
   "outputs": [
    {
     "data": {
      "image/png": "[encoded data removed]",
      "text/plain": [
       "<Figure size 1440x864 with 2 Axes>"
      ]
     },
     "metadata": {},
     "output_type": "display_data"
    }
   ],
   "source": [
    "sns.set(rc={'figure.figsize':(20,12)})\n",
    "ax = sns.heatmap(df.corr(), linewidths=0.2, cmap=\"Blues\")"
   ]
  },
  {
   "cell_type": "markdown",
   "metadata": {},
   "source": [
    "<p><i> Attributes like Prefix_Suffix, Domain_registeration_length, URL_of_Anchor, age_of_domain, DNSRecord, web_traffic and Google_Index show high levels of positive / negative correlation with the output variables. </i></p>"
   ]
  },
  {
   "cell_type": "markdown",
   "metadata": {},
   "source": [
    "<b>Visualizing the output variable, Result</b>"
   ]
  },
  {
   "cell_type": "code",
   "execution_count": 7,
   "metadata": {},
   "outputs": [
    {
     "name": "stdout",
     "output_type": "stream",
     "text": [
      "0    1362\n",
      "1    1094\n",
      "Name: Result, dtype: int64\n"
     ]
    },
    {
     "data": {
      "image/png": "[encoded data removed]",
      "text/plain": [
       "<Figure size 576x288 with 1 Axes>"
      ]
     },
     "metadata": {},
     "output_type": "display_data"
    }
   ],
   "source": [
    "sns.set(rc={'figure.figsize':(8,4)})\n",
    "ax = sns.countplot(df.Result)\n",
    "print(df.Result.value_counts())"
   ]
  },
  {
   "cell_type": "markdown",
   "metadata": {},
   "source": [
    "<p><i> Here, we can see that the samples of both the classes are present in similar proportion. So, we do not require to use any of the oversampling techniques.</i></p>\n",
    "<li>There are a total of 2456 samples.\n",
    "<li>1362 are non-phishing and 1094 are phishing websites."
   ]
  },
  {
   "cell_type": "markdown",
   "metadata": {},
   "source": [
    "<h3>Statistical Significance Analysis</h3>"
   ]
  },
  {
   "cell_type": "markdown",
   "metadata": {},
   "source": [
    "<p><b>Here, we try to test the significance of each of the input variables with respect to the output variable using proportion testing techniques with a level of significance 0.05.</b></p>\n",
    "Here, the null hypothesis is:\n",
    "<li>$H_0:\\beta_{i}=0$\n",
    "i,e., Comparision are Not statistically significant.\n",
    "<li>$H_A:\\beta_{i}!=0$\n",
    "i,e., Comparision are statistically significant."
   ]
  },
  {
   "cell_type": "code",
   "execution_count": 8,
   "metadata": {},
   "outputs": [
    {
     "name": "stdout",
     "output_type": "stream",
     "text": [
      "Optimization terminated successfully.\n",
      "         Current function value: 0.132958\n",
      "         Iterations 10\n",
      "                           Logit Regression Results                           \n",
      "==============================================================================\n",
      "Dep. Variable:                 Result   No. Observations:                 2456\n",
      "Model:                          Logit   Df Residuals:                     2425\n",
      "Method:                           MLE   Df Model:                           30\n",
      "Date:                Fri, 29 May 2020   Pseudo R-squ.:                  0.8065\n",
      "Time:                        13:24:11   Log-Likelihood:                -326.54\n",
      "converged:                       True   LL-Null:                       -1687.7\n",
      "Covariance Type:            nonrobust   LLR p-value:                     0.000\n",
      "===============================================================================================\n",
      "                                  coef    std err          z      P>|z|      [0.025      0.975]\n",
      "-----------------------------------------------------------------------------------------------\n",
      "const                          -1.5301      0.277     -5.523      0.000      -2.073      -0.987\n",
      "having_IP_Address              -4.2808      1.812     -2.363      0.018      -7.831      -0.730\n",
      "URL_Length                     -0.6349      0.424     -1.498      0.134      -1.466       0.196\n",
      "Shortining_Service              1.1301      0.851      1.328      0.184      -0.538       2.798\n",
      "having_At_Symbol               -0.0800      0.740     -0.108      0.914      -1.530       1.370\n",
      "double_slash_redirecting        2.7531      1.849      1.489      0.136      -0.870       6.376\n",
      "Prefix_Suffix                  -2.7008      0.245    -11.020      0.000      -3.181      -2.220\n",
      "having_Sub_Domain              -0.4185      0.138     -3.030      0.002      -0.689      -0.148\n",
      "SSLfinal_State                 -1.5885      0.130    -12.198      0.000      -1.844      -1.333\n",
      "Domain_registeration_length     0.1357      0.179      0.756      0.450      -0.216       0.487\n",
      "Favicon                        -0.3383      0.878     -0.385      0.700      -2.060       1.383\n",
      "port                            2.5527      0.873      2.923      0.003       0.841       4.264\n",
      "HTTPS_token                    -0.7317      0.529     -1.384      0.166      -1.768       0.305\n",
      "Request_URL                    -0.2955      0.140     -2.109      0.035      -0.570      -0.021\n",
      "URL_of_Anchor                  -4.1632      0.349    -11.944      0.000      -4.846      -3.480\n",
      "Links_in_tags                  -0.5427      0.146     -3.712      0.000      -0.829      -0.256\n",
      "SFH                             0.8103      0.461      1.759      0.079      -0.092       1.713\n",
      "Submitting_to_email            -1.0047      0.524     -1.916      0.055      -2.032       0.023\n",
      "Abnormal_URL                    1.0706      0.832      1.287      0.198      -0.559       2.700\n",
      "Redirect                        0.5025      1.240      0.405      0.685      -1.929       2.934\n",
      "on_mouseover                   -0.5694      0.720     -0.791      0.429      -1.980       0.841\n",
      "RightClick                      0.5916      0.801      0.739      0.460      -0.978       2.161\n",
      "popUpWidnow                    -0.7501      0.849     -0.883      0.377      -2.415       0.915\n",
      "Iframe                          0.0634      0.733      0.086      0.931      -1.374       1.501\n",
      "age_of_domain                  -0.3876      0.125     -3.102      0.002      -0.632      -0.143\n",
      "DNSRecord                       1.3233      0.247      5.357      0.000       0.839       1.807\n",
      "web_traffic                    -1.5897      0.162     -9.828      0.000      -1.907      -1.273\n",
      "Page_Rank                      -0.5269      0.197     -2.677      0.007      -0.913      -0.141\n",
      "Google_Index                    1.1798      0.303      3.897      0.000       0.586       1.773\n",
      "Links_pointing_to_page         -0.9837      0.232     -4.247      0.000      -1.438      -0.530\n",
      "Statistical_report             -0.3167      0.736     -0.431      0.667      -1.758       1.125\n",
      "===============================================================================================\n",
      "\n",
      "Possibly complete quasi-separation: A fraction 0.16 of observations can be\n",
      "perfectly predicted. This might indicate that there is complete\n",
      "quasi-separation. In this case some parameters will not be identified.\n"
     ]
    }
   ],
   "source": [
    "import statsmodels.api as sm\n",
    "X=df.drop(columns=['Result'])\n",
    "Y=df.Result\n",
    "XC=sm.add_constant(X)\n",
    "result=sm.Logit(Y,XC).fit()\n",
    "print(result.summary())"
   ]
  },
  {
   "cell_type": "markdown",
   "metadata": {},
   "source": [
    "<b>Filtering the attributes that have p-valie lower than 0.05 using Backward Elemination.</b>"
   ]
  },
  {
   "cell_type": "code",
   "execution_count": 9,
   "metadata": {},
   "outputs": [
    {
     "name": "stdout",
     "output_type": "stream",
     "text": [
      "Optimization terminated successfully.\n",
      "         Current function value: 0.132958\n",
      "         Iterations 10\n",
      "Optimization terminated successfully.\n",
      "         Current function value: 0.132959\n",
      "         Iterations 10\n",
      "Optimization terminated successfully.\n",
      "         Current function value: 0.132962\n",
      "         Iterations 10\n",
      "Optimization terminated successfully.\n",
      "         Current function value: 0.132991\n",
      "         Iterations 10\n",
      "Optimization terminated successfully.\n",
      "         Current function value: 0.133024\n",
      "         Iterations 10\n",
      "Optimization terminated successfully.\n",
      "         Current function value: 0.133112\n",
      "         Iterations 10\n",
      "Optimization terminated successfully.\n",
      "         Current function value: 0.133212\n",
      "         Iterations 10\n",
      "Optimization terminated successfully.\n",
      "         Current function value: 0.133379\n",
      "         Iterations 10\n",
      "Optimization terminated successfully.\n",
      "         Current function value: 0.133533\n",
      "         Iterations 10\n",
      "Optimization terminated successfully.\n",
      "         Current function value: 0.133903\n",
      "         Iterations 10\n",
      "Optimization terminated successfully.\n",
      "         Current function value: 0.134211\n",
      "         Iterations 9\n",
      "Optimization terminated successfully.\n",
      "         Current function value: 0.134513\n",
      "         Iterations 9\n",
      "Optimization terminated successfully.\n",
      "         Current function value: 0.134964\n",
      "         Iterations 9\n",
      "Optimization terminated successfully.\n",
      "         Current function value: 0.135120\n",
      "         Iterations 9\n",
      "Optimization terminated successfully.\n",
      "         Current function value: 0.135926\n",
      "         Iterations 9\n",
      "Optimization terminated successfully.\n",
      "         Current function value: 0.136265\n",
      "         Iterations 9\n"
     ]
    }
   ],
   "source": [
    "cols=list(X.columns)\n",
    "pmax=1\n",
    "while(len(cols)>0):\n",
    "    p=[]\n",
    "    X=X[cols]\n",
    "    XC=sm.add_constant(X)\n",
    "    result=sm.Logit(Y,XC).fit()\n",
    "    p=pd.Series(result.pvalues.values[1:],index=cols)\n",
    "    pmax=max(p)\n",
    "    feature_with_p_max=p.idxmax()\n",
    "    if(pmax>0.05):\n",
    "        cols.remove(feature_with_p_max)\n",
    "    else:\n",
    "        break\n",
    "selected_features_BE=cols"
   ]
  },
  {
   "cell_type": "markdown",
   "metadata": {},
   "source": [
    "<b>List of attributes that were tested to be significant</b>"
   ]
  },
  {
   "cell_type": "code",
   "execution_count": 10,
   "metadata": {},
   "outputs": [
    {
     "name": "stdout",
     "output_type": "stream",
     "text": [
      "Prefix_Suffix\n",
      "having_Sub_Domain\n",
      "SSLfinal_State\n",
      "port\n",
      "Request_URL\n",
      "URL_of_Anchor\n",
      "Links_in_tags\n",
      "Submitting_to_email\n",
      "popUpWidnow\n",
      "age_of_domain\n",
      "DNSRecord\n",
      "web_traffic\n",
      "Page_Rank\n",
      "Google_Index\n",
      "Links_pointing_to_page\n"
     ]
    }
   ],
   "source": [
    "for i in cols:\n",
    "    print(i, end = '\\n')"
   ]
  },
  {
   "cell_type": "markdown",
   "metadata": {},
   "source": [
    "<b>Updating the list of the input variables</b>"
   ]
  },
  {
   "cell_type": "code",
   "execution_count": 11,
   "metadata": {},
   "outputs": [],
   "source": [
    "X_final=X[selected_features_BE]"
   ]
  },
  {
   "cell_type": "markdown",
   "metadata": {},
   "source": [
    "<b>Performing a 70:30 Train-Test Split</b>"
   ]
  },
  {
   "cell_type": "code",
   "execution_count": 12,
   "metadata": {},
   "outputs": [
    {
     "name": "stdout",
     "output_type": "stream",
     "text": [
      "(1719, 15) (737, 15) (1719,) (737,)\n"
     ]
    }
   ],
   "source": [
    "from sklearn.model_selection import train_test_split\n",
    "Xtrain,Xtest,Ytrain,Ytest=train_test_split(X_final,Y,test_size=0.3,random_state=0)\n",
    "print(Xtrain.shape,Xtest.shape,Ytrain.shape,Ytest.shape)"
   ]
  },
  {
   "cell_type": "markdown",
   "metadata": {},
   "source": [
    "<h3>Fitting a base Logistic Regression model to the training data</h3>"
   ]
  },
  {
   "cell_type": "code",
   "execution_count": 13,
   "metadata": {},
   "outputs": [
    {
     "data": {
      "text/plain": [
       "LogisticRegression(C=1.0, class_weight=None, dual=False, fit_intercept=True,\n",
       "                   intercept_scaling=1, l1_ratio=None, max_iter=100,\n",
       "                   multi_class='auto', n_jobs=None, penalty='l2',\n",
       "                   random_state=None, solver='lbfgs', tol=0.0001, verbose=0,\n",
       "                   warm_start=False)"
      ]
     },
     "execution_count": 13,
     "metadata": {},
     "output_type": "execute_result"
    }
   ],
   "source": [
    "from sklearn.linear_model import LogisticRegression\n",
    "LR=LogisticRegression()\n",
    "LR.fit(Xtrain,Ytrain)"
   ]
  },
  {
   "cell_type": "markdown",
   "metadata": {},
   "source": [
    "<b>Predicting the outputs on the input training data and calculating the training accuracy</b>"
   ]
  },
  {
   "cell_type": "code",
   "execution_count": 14,
   "metadata": {},
   "outputs": [
    {
     "name": "stdout",
     "output_type": "stream",
     "text": [
      "The accuracy on the training data is  95.2298 %\n"
     ]
    }
   ],
   "source": [
    "from sklearn import metrics\n",
    "Y_train_pred=LR.predict(Xtrain)\n",
    "print('The accuracy on the training data is ',np.round(metrics.accuracy_score(Ytrain,Y_train_pred)*100, decimals = 4), '%')"
   ]
  },
  {
   "cell_type": "markdown",
   "metadata": {},
   "source": [
    "<b>Predicting the outputs on the input test data and calculating the test accuracy</b>"
   ]
  },
  {
   "cell_type": "code",
   "execution_count": 15,
   "metadata": {},
   "outputs": [
    {
     "name": "stdout",
     "output_type": "stream",
     "text": [
      "The accuracy on the test data is  93.4871 %\n"
     ]
    }
   ],
   "source": [
    "Y_test_pred=LR.predict(Xtest)\n",
    "print('The accuracy on the test data is ',np.round(metrics.accuracy_score(Ytest,Y_test_pred)*100, decimals = 4), '%')"
   ]
  },
  {
   "cell_type": "markdown",
   "metadata": {},
   "source": [
    "<p><i>Here, the training accuracy is slight higher than the test accuracy, which suggests a slight overfitting of the model to the training samples. Though, both the accuracies are high, which suggests a good fit.The overfitting can be fixed using Ridge(L2 norm).</i></p>"
   ]
  },
  {
   "cell_type": "markdown",
   "metadata": {},
   "source": [
    "<b>Regularizing the Logistic Regression model using Ridge</b>\n",
    "<p><i>Initially we fit the data the data to the Ridge classifier with random parameters, then we try to find the best value for the parameter followed by changing the original ridge model parameter.</i></p>"
   ]
  },
  {
   "cell_type": "code",
   "execution_count": 16,
   "metadata": {},
   "outputs": [],
   "source": [
    "from sklearn.linear_model import RidgeClassifier\n",
    "RD = RidgeClassifier(alpha=0.5550000000000004,normalize=True)"
   ]
  },
  {
   "cell_type": "code",
   "execution_count": 17,
   "metadata": {},
   "outputs": [],
   "source": [
    "RD.fit(Xtrain,Ytrain)\n",
    "RD_pred=RD.predict(Xtest)"
   ]
  },
  {
   "cell_type": "markdown",
   "metadata": {},
   "source": [
    "<b>Comparing the bias and varience of base Logistic regression and tuned Ridge classifier to find optimum fit</b>"
   ]
  },
  {
   "cell_type": "code",
   "execution_count": 18,
   "metadata": {},
   "outputs": [
    {
     "name": "stdout",
     "output_type": "stream",
     "text": [
      "Accuracy score: 0.940 (+/- 0.01194) [Logit]\n",
      "Accuracy score: 0.940 (+/- 0.00767) [Ridge]\n"
     ]
    }
   ],
   "source": [
    "from sklearn.model_selection import KFold\n",
    "from sklearn import metrics\n",
    "kf=KFold(n_splits=5,shuffle=True,random_state=0)\n",
    "for model,name in zip([LR,RD],[\"Logit\",'Ridge']):\n",
    "    accuracy=[]\n",
    "    for train_idx,test_idx in kf.split(X_final,Y):\n",
    "        Xtrain,Xtest=X_final.iloc[train_idx,:],X_final.iloc[test_idx,:]\n",
    "        Ytrain,Ytest=Y.iloc[train_idx],Y.iloc[test_idx]\n",
    "        model.fit(Xtrain,Ytrain)\n",
    "        Y_predict=model.predict(Xtest)\n",
    "        acc=metrics.accuracy_score(Ytest,Y_predict)\n",
    "        accuracy.append(acc)\n",
    "    print(\"Accuracy score: %0.03f (+/- %0.5f) [%s]\" % (np.mean(accuracy), np.std(accuracy,ddof=1),name))  "
   ]
  },
  {
   "cell_type": "markdown",
   "metadata": {},
   "source": [
    "<b>Using GridSearchCV to tune Ridge model</b>"
   ]
  },
  {
   "cell_type": "code",
   "execution_count": 19,
   "metadata": {},
   "outputs": [
    {
     "data": {
      "text/plain": [
       "GridSearchCV(cv=5, error_score=nan,\n",
       "             estimator=RidgeClassifier(alpha=0.5550000000000004,\n",
       "                                       class_weight=None, copy_X=True,\n",
       "                                       fit_intercept=True, max_iter=None,\n",
       "                                       normalize=True, random_state=None,\n",
       "                                       solver='auto', tol=0.001),\n",
       "             iid='deprecated', n_jobs=None,\n",
       "             param_grid={'alpha': array([0.1  , 0.101, 0.102, 0.103, 0.104, 0.105, 0.106, 0.107, 0.108,\n",
       "       0.109, 0.11 , 0.111, 0.112, 0.113, 0.114, 0...\n",
       "       0.955, 0.956, 0.957, 0.958, 0.959, 0.96 , 0.961, 0.962, 0.963,\n",
       "       0.964, 0.965, 0.966, 0.967, 0.968, 0.969, 0.97 , 0.971, 0.972,\n",
       "       0.973, 0.974, 0.975, 0.976, 0.977, 0.978, 0.979, 0.98 , 0.981,\n",
       "       0.982, 0.983, 0.984, 0.985, 0.986, 0.987, 0.988, 0.989, 0.99 ,\n",
       "       0.991, 0.992, 0.993, 0.994, 0.995, 0.996, 0.997, 0.998, 0.999])},\n",
       "             pre_dispatch='2*n_jobs', refit=True, return_train_score=False,\n",
       "             scoring='r2', verbose=0)"
      ]
     },
     "execution_count": 19,
     "metadata": {},
     "output_type": "execute_result"
    }
   ],
   "source": [
    "from sklearn.model_selection import GridSearchCV\n",
    "params_RD={'alpha':np.arange(0.1,1,0.001)}\n",
    "GS_RD=GridSearchCV(RD,params_RD,cv=5,scoring='r2')\n",
    "GS_RD.fit(X_final,Y)"
   ]
  },
  {
   "cell_type": "code",
   "execution_count": 20,
   "metadata": {},
   "outputs": [
    {
     "name": "stdout",
     "output_type": "stream",
     "text": [
      "Best parameter for Ridge classifier:  0.5550000000000004\n"
     ]
    }
   ],
   "source": [
    "print('Best parameter for Ridge classifier: ', GS_RD.best_params_['alpha'])"
   ]
  },
  {
   "cell_type": "markdown",
   "metadata": {},
   "source": [
    "<b>Checking train and test accuracy on the Ridge classifier</b>"
   ]
  },
  {
   "cell_type": "code",
   "execution_count": 21,
   "metadata": {},
   "outputs": [
    {
     "name": "stdout",
     "output_type": "stream",
     "text": [
      "The accuracy on the training data is  94.3511 %\n",
      "The accuracy on the test data is  93.279 %\n"
     ]
    }
   ],
   "source": [
    "Y_train_pred_RD=RD.predict(Xtrain)\n",
    "print('The accuracy on the training data is ',np.round(metrics.accuracy_score(Ytrain,Y_train_pred_RD)*100, decimals = 4), '%')\n",
    "Y_test_pred_RD=RD.predict(Xtest)\n",
    "print('The accuracy on the test data is ',np.round(metrics.accuracy_score(Ytest,Y_test_pred_RD)*100, decimals = 4), '%')"
   ]
  },
  {
   "cell_type": "markdown",
   "metadata": {},
   "source": [
    "<i>The Ridge classifier is optimally fitted and the train and test accuracues are very close, compared to the base Logit model.</i>"
   ]
  },
  {
   "cell_type": "markdown",
   "metadata": {},
   "source": [
    "<b>Visualising the confusing matrix of Ridge model on the test data</b>"
   ]
  },
  {
   "cell_type": "code",
   "execution_count": 22,
   "metadata": {},
   "outputs": [
    {
     "data": {
      "image/png": "[encoded data removed]",
      "text/plain": [
       "<Figure size 432x288 with 2 Axes>"
      ]
     },
     "metadata": {},
     "output_type": "display_data"
    }
   ],
   "source": [
    "sns.set(rc = {'figure.figsize':(6,4)})\n",
    "cm = metrics.confusion_matrix(Ytest,Y_test_pred_RD)\n",
    "ax = sns.heatmap(cm,annot=True, cmap=\"Greens\", fmt = '')\n",
    "plt.xlabel('Predicted Values')\n",
    "plt.ylabel('Actual Values')\n",
    "plt.show()"
   ]
  },
  {
   "cell_type": "markdown",
   "metadata": {},
   "source": [
    "<p>Here, the four values obtained for the metrix are:</p>\n",
    "\n",
    "\n",
    "<b>True Positives:  </b>\n",
    "Phishing websites classified as Phishing websites\n",
    "\n",
    "\n",
    "<b>False Positives:  </b>\n",
    "Non-Phishing websites classified as Phishing websites\n",
    "\n",
    "\n",
    "<b>True Negatives:  </b>\n",
    "Non-Phishing websites classified as Non-Phishing websites\n",
    "\n",
    "\n",
    "<b>False Negatives:  </b>\n",
    "Phishing websites classified as Non-Phishing websites\n",
    "\n",
    "<i>To build a model that solves this particular business problem, our primary goal must be to reduce the number of False Negatives (Type 2 error) and then try to reduce False Positives (Type 1 error) if the former is achieved as if a small fraction genuine websites are classified as phishing websites, the damage done is less compared to classing Phishing websides as genuine websites</i>"
   ]
  },
  {
   "cell_type": "markdown",
   "metadata": {},
   "source": [
    "<b>Calculating the Sensitivity of the model (proportion of total positives identified correctly)</b>"
   ]
  },
  {
   "cell_type": "code",
   "execution_count": 23,
   "metadata": {},
   "outputs": [
    {
     "name": "stdout",
     "output_type": "stream",
     "text": [
      "The Sensitivity / Recall / TPR of the model is  89.2377 %\n"
     ]
    }
   ],
   "source": [
    "tpr=cm[1,1]/cm[1,:].sum()\n",
    "print('The Sensitivity / Recall / TPR of the model is ',np.round(tpr*100, decimals = 4), '%')"
   ]
  },
  {
   "cell_type": "markdown",
   "metadata": {},
   "source": [
    "<b>Calculating the Specificity of the model (proportion of total negatives identified correctly)</b>"
   ]
  },
  {
   "cell_type": "code",
   "execution_count": 24,
   "metadata": {},
   "outputs": [
    {
     "name": "stdout",
     "output_type": "stream",
     "text": [
      "The Specificity of the model is  96.6418 %\n"
     ]
    }
   ],
   "source": [
    "tnr=cm[0,0]/cm[0,:].sum()\n",
    "print('The Specificity of the model is ',np.round(tnr*100, decimals = 4), '%')"
   ]
  },
  {
   "cell_type": "markdown",
   "metadata": {},
   "source": [
    "<b>Calculating the f1-score of the model (combination of Sensitivity and Specificity)</b>"
   ]
  },
  {
   "cell_type": "code",
   "execution_count": 25,
   "metadata": {},
   "outputs": [
    {
     "name": "stdout",
     "output_type": "stream",
     "text": [
      "The f1-score of the model is  0.9234\n"
     ]
    }
   ],
   "source": [
    "print('The f1-score of the model is ',np.round(metrics.f1_score(Ytest,Y_test_pred_RD), decimals = 4))"
   ]
  },
  {
   "cell_type": "markdown",
   "metadata": {},
   "source": [
    "<i>One key point to note is that since Ridge Regression has low Recall, we might try to fix this using a different threshold using Logistic Regression</i>"
   ]
  },
  {
   "cell_type": "markdown",
   "metadata": {},
   "source": [
    "<h3>Tuning the threshold in order to increase the recall (which is out prime objective)</h3>\n",
    "<p><i>Here we try to find an optimum value of the threshold such that the Recall is maximized without sacrificing much on the accuracy or F1-score</i></p>"
   ]
  },
  {
   "cell_type": "code",
   "execution_count": 26,
   "metadata": {},
   "outputs": [
    {
     "data": {
      "image/png": "[encoded data removed]",
      "text/plain": [
       "<Figure size 720x288 with 1 Axes>"
      ]
     },
     "metadata": {},
     "output_type": "display_data"
    }
   ],
   "source": [
    "import decimal\n",
    "def float_range(start, stop, step):\n",
    "    while start < stop:\n",
    "        yield float(start)\n",
    "        start += decimal.Decimal(step)\n",
    "thresholds = list(float_range(0, 1, '0.01'))\n",
    "acc = []\n",
    "rc = []\n",
    "for i in thresholds:\n",
    "    preds = np.where(LR.predict_proba(Xtest)[:,1] > i, 1, 0)\n",
    "    acc.append(metrics.accuracy_score(Ytest, preds))\n",
    "    rc.append(metrics.recall_score(Ytest, preds))\n",
    "sns.set(rc = {'figure.figsize':(10,4)})\n",
    "sns.lineplot(thresholds, rc)\n",
    "sns.lineplot(thresholds, acc)\n",
    "plt.xlabel('Threshold')\n",
    "plt.ylabel('Value')\n",
    "plt.title('Red = Accuracy | Blue = Recall')\n",
    "plt.show()"
   ]
  },
  {
   "cell_type": "markdown",
   "metadata": {},
   "source": [
    "<p><i> Here, for threshold = 0.35, the recall is optimally high</i></p>"
   ]
  },
  {
   "cell_type": "code",
   "execution_count": 27,
   "metadata": {},
   "outputs": [
    {
     "data": {
      "image/png": "[encoded data removed]",
      "text/plain": [
       "<Figure size 432x288 with 2 Axes>"
      ]
     },
     "metadata": {},
     "output_type": "display_data"
    },
    {
     "name": "stdout",
     "output_type": "stream",
     "text": [
      "Accuracy:  93.0754 %\n",
      "Recall:  95.5157 %\n",
      "Precision:  89.8734 %\n",
      "F1-score:  92.6087 %\n"
     ]
    }
   ],
   "source": [
    "def cm_for_thresh(thresh):    \n",
    "    threshold = thresh\n",
    "    preds = np.where(LR.predict_proba(Xtest)[:,1] > threshold, 1, 0)\n",
    "    sns.set(rc = {'figure.figsize':(6,4)})\n",
    "    cm = metrics.confusion_matrix(Ytest,preds)\n",
    "    ax = sns.heatmap(cm,annot=True, cmap=\"Greens\", fmt = '')\n",
    "    plt.xlabel('Predicted Values')\n",
    "    plt.ylabel('Actual Values')\n",
    "    plt.show()\n",
    "    print('Accuracy: ',np.round(metrics.accuracy_score(Ytest, preds)*100, decimals = 4), '%')\n",
    "    print('Recall: ',np.round(metrics.recall_score(Ytest, preds)*100, decimals = 4), '%')\n",
    "    print('Precision: ',np.round(metrics.precision_score(Ytest, preds)*100, decimals = 4), '%')\n",
    "    print('F1-score: ',np.round(metrics.f1_score(Ytest, preds)*100, decimals = 4), '%')\n",
    "cm_for_thresh(0.35)"
   ]
  },
  {
   "cell_type": "markdown",
   "metadata": {},
   "source": [
    "<p><i> So we can conclude that, for threshold = 0.35, the recall is optimally high as well as the Accuracy and the F1-score is retained as well</i></p>"
   ]
  },
  {
   "cell_type": "markdown",
   "metadata": {},
   "source": [
    "<h3>Fitting base advanced models</h3>"
   ]
  },
  {
   "cell_type": "markdown",
   "metadata": {},
   "source": [
    "<b>Loading the Libraries</b>"
   ]
  },
  {
   "cell_type": "code",
   "execution_count": 28,
   "metadata": {},
   "outputs": [],
   "source": [
    "from sklearn.tree import DecisionTreeClassifier\n",
    "from sklearn.naive_bayes import GaussianNB  \n",
    "from sklearn.neighbors import KNeighborsClassifier\n",
    "from sklearn.svm import SVC"
   ]
  },
  {
   "cell_type": "markdown",
   "metadata": {},
   "source": [
    "<b>Creating Model objects</b>"
   ]
  },
  {
   "cell_type": "code",
   "execution_count": 29,
   "metadata": {},
   "outputs": [],
   "source": [
    "DT = DecisionTreeClassifier()\n",
    "NB = GaussianNB()\n",
    "KNN = KNeighborsClassifier()\n",
    "SVM = SVC()"
   ]
  },
  {
   "cell_type": "markdown",
   "metadata": {},
   "source": [
    "<b>Cross-validating the models</b>"
   ]
  },
  {
   "cell_type": "code",
   "execution_count": 30,
   "metadata": {},
   "outputs": [
    {
     "name": "stdout",
     "output_type": "stream",
     "text": [
      "Logit: 0.987600 (0.000009)\n",
      "Decisiion Tree: 0.973327 (0.000128)\n",
      "Naive Bayes: 0.979830 (0.000026)\n",
      "KNN: 0.989014 (0.000038)\n",
      "SVM: 0.990546 (0.000018)\n"
     ]
    },
    {
     "data": {
      "image/png": "[encoded data removed]",
      "text/plain": [
       "<Figure size 720x360 with 1 Axes>"
      ]
     },
     "metadata": {},
     "output_type": "display_data"
    }
   ],
   "source": [
    "from sklearn.model_selection import KFold\n",
    "from sklearn.model_selection import cross_val_score\n",
    "#evaluate each model in turn\n",
    "results=[]\n",
    "names=[]\n",
    "for model,name in zip([LR, DT, NB, KNN, SVM],['Logit','Decisiion Tree','Naive Bayes','KNN', 'SVM']):    \n",
    "    kfold=KFold(shuffle=True,n_splits=5,random_state=0)\n",
    "    cv_results=cross_val_score(model,X,Y,cv=kfold,scoring='roc_auc')\n",
    "    results.append(cv_results)\n",
    "    names.append(name)\n",
    "    print('%s: %f (%f)' % (name,np.mean(cv_results),np.var(cv_results,ddof=1)))\n",
    "    #boxplot algorithm comparision\n",
    "sns.set(rc={'figure.figsize':(10,5)})\n",
    "fig=plt.figure()\n",
    "fig.suptitle('Algorithm Comparision')\n",
    "ax=fig.add_subplot(111)\n",
    "plt.boxplot(results)\n",
    "ax.set_xticklabels(names)\n",
    "plt.show()"
   ]
  },
  {
   "cell_type": "markdown",
   "metadata": {},
   "source": [
    "<h3>Fitting tuned DT and KNN models for better performance </h3>"
   ]
  },
  {
   "cell_type": "markdown",
   "metadata": {},
   "source": [
    "<b>Defining the parameters to be tuned</b>"
   ]
  },
  {
   "cell_type": "code",
   "execution_count": 31,
   "metadata": {},
   "outputs": [],
   "source": [
    "params_knn={'n_neighbors':np.arange(1,50),'weights':['uniform','distance']}\n",
    "params_dt={'criterion':['entropy','gini'],'max_depth':np.arange(1,10)}\n",
    "GS_knn=GridSearchCV(KNN,params_knn,cv=5,scoring='recall')\n",
    "GS_dt=GridSearchCV(DT,params_dt,cv=5,scoring='recall')"
   ]
  },
  {
   "cell_type": "markdown",
   "metadata": {},
   "source": [
    "<b>Fitting the parameters</b>`"
   ]
  },
  {
   "cell_type": "code",
   "execution_count": 32,
   "metadata": {},
   "outputs": [
    {
     "data": {
      "text/plain": [
       "GridSearchCV(cv=5, error_score=nan,\n",
       "             estimator=DecisionTreeClassifier(ccp_alpha=0.0, class_weight=None,\n",
       "                                              criterion='gini', max_depth=None,\n",
       "                                              max_features=None,\n",
       "                                              max_leaf_nodes=None,\n",
       "                                              min_impurity_decrease=0.0,\n",
       "                                              min_impurity_split=None,\n",
       "                                              min_samples_leaf=1,\n",
       "                                              min_samples_split=2,\n",
       "                                              min_weight_fraction_leaf=0.0,\n",
       "                                              presort='deprecated',\n",
       "                                              random_state=None,\n",
       "                                              splitter='best'),\n",
       "             iid='deprecated', n_jobs=None,\n",
       "             param_grid={'criterion': ['entropy', 'gini'],\n",
       "                         'max_depth': array([1, 2, 3, 4, 5, 6, 7, 8, 9])},\n",
       "             pre_dispatch='2*n_jobs', refit=True, return_train_score=False,\n",
       "             scoring='recall', verbose=0)"
      ]
     },
     "execution_count": 32,
     "metadata": {},
     "output_type": "execute_result"
    }
   ],
   "source": [
    "GS_dt.fit(X,Y)"
   ]
  },
  {
   "cell_type": "code",
   "execution_count": 33,
   "metadata": {},
   "outputs": [
    {
     "data": {
      "text/plain": [
       "GridSearchCV(cv=5, error_score=nan,\n",
       "             estimator=KNeighborsClassifier(algorithm='auto', leaf_size=30,\n",
       "                                            metric='minkowski',\n",
       "                                            metric_params=None, n_jobs=None,\n",
       "                                            n_neighbors=5, p=2,\n",
       "                                            weights='uniform'),\n",
       "             iid='deprecated', n_jobs=None,\n",
       "             param_grid={'n_neighbors': array([ 1,  2,  3,  4,  5,  6,  7,  8,  9, 10, 11, 12, 13, 14, 15, 16, 17,\n",
       "       18, 19, 20, 21, 22, 23, 24, 25, 26, 27, 28, 29, 30, 31, 32, 33, 34,\n",
       "       35, 36, 37, 38, 39, 40, 41, 42, 43, 44, 45, 46, 47, 48, 49]),\n",
       "                         'weights': ['uniform', 'distance']},\n",
       "             pre_dispatch='2*n_jobs', refit=True, return_train_score=False,\n",
       "             scoring='recall', verbose=0)"
      ]
     },
     "execution_count": 33,
     "metadata": {},
     "output_type": "execute_result"
    }
   ],
   "source": [
    "GS_knn.fit(X,Y)"
   ]
  },
  {
   "cell_type": "markdown",
   "metadata": {},
   "source": [
    "<b>Finding the best-params</b>"
   ]
  },
  {
   "cell_type": "code",
   "execution_count": 34,
   "metadata": {},
   "outputs": [
    {
     "name": "stdout",
     "output_type": "stream",
     "text": [
      "Best parameter for DT classifier:  {'criterion': 'gini', 'max_depth': 9}\n"
     ]
    }
   ],
   "source": [
    "print('Best parameter for DT classifier: ', GS_dt.best_params_)"
   ]
  },
  {
   "cell_type": "code",
   "execution_count": 35,
   "metadata": {},
   "outputs": [
    {
     "name": "stdout",
     "output_type": "stream",
     "text": [
      "Best parameter for KNN classifier:  {'n_neighbors': 1, 'weights': 'uniform'}\n"
     ]
    }
   ],
   "source": [
    "print('Best parameter for KNN classifier: ', GS_knn.best_params_)"
   ]
  },
  {
   "cell_type": "markdown",
   "metadata": {},
   "source": [
    "<b>Defining the tuned models with best params</b>"
   ]
  },
  {
   "cell_type": "code",
   "execution_count": 36,
   "metadata": {},
   "outputs": [],
   "source": [
    "DT_tuned=DecisionTreeClassifier(criterion='gini',max_depth=9)\n",
    "KNN_tuned=KNeighborsClassifier(n_neighbors=1,weights='uniform')"
   ]
  },
  {
   "cell_type": "markdown",
   "metadata": {},
   "source": [
    "<b>Cross-validating all the models so far</b>"
   ]
  },
  {
   "cell_type": "code",
   "execution_count": 37,
   "metadata": {},
   "outputs": [
    {
     "name": "stdout",
     "output_type": "stream",
     "text": [
      "Logit: 0.941352 (0.000276)\n",
      "Ridge: 0.940959 (0.000229)\n",
      "Decisiion Tree: 0.964170 (0.000165)\n",
      "Naive Bayes: 0.923858 (0.000096)\n",
      "KNN: 0.945445 (0.000353)\n",
      "SVM: 0.958065 (0.000239)\n",
      "Tuned Decision Tree: 0.959280 (0.000181)\n",
      "Tuned KNN: 0.968651 (0.000191)\n"
     ]
    },
    {
     "data": {
      "image/png": "[encoded data removed]",
      "text/plain": [
       "<Figure size 1080x360 with 1 Axes>"
      ]
     },
     "metadata": {},
     "output_type": "display_data"
    }
   ],
   "source": [
    "from sklearn.model_selection import KFold\n",
    "from sklearn.model_selection import cross_val_score\n",
    "#evaluate each model in turn\n",
    "results=[]\n",
    "names=[]\n",
    "for model,name in zip([LR, RD, DT, NB, KNN, SVM, DT_tuned,KNN_tuned ],['Logit','Ridge', 'Decisiion Tree','Naive Bayes','KNN', \n",
    "                                                                   'SVM', 'Tuned Decision Tree', 'Tuned KNN']):    \n",
    "    kfold=KFold(shuffle=True,n_splits=10,random_state=0)\n",
    "    cv_results=cross_val_score(model,X,Y,cv=kfold,scoring='accuracy')\n",
    "    results.append(cv_results)\n",
    "    names.append(name)\n",
    "    print('%s: %f (%f)' % (name,np.mean(cv_results),np.var(cv_results,ddof=1)))\n",
    "    #boxplot algorithm comparision\n",
    "sns.set(rc={'figure.figsize':(15,5)})\n",
    "fig=plt.figure()\n",
    "fig.suptitle('Algorithm Comparision')\n",
    "ax=fig.add_subplot(111)\n",
    "plt.boxplot(results)\n",
    "ax.set_xticklabels(names)\n",
    "plt.show()"
   ]
  },
  {
   "cell_type": "markdown",
   "metadata": {},
   "source": [
    "<i>Here, we find the tuned KNN and the base SVM to be the top two best models in terms of accuracy and consistency</i>"
   ]
  },
  {
   "cell_type": "markdown",
   "metadata": {},
   "source": [
    "<h3>Checking performance of the tuned KNN model</h3>"
   ]
  },
  {
   "cell_type": "markdown",
   "metadata": {},
   "source": [
    "<b>Train and test accuracy</b>"
   ]
  },
  {
   "cell_type": "code",
   "execution_count": 38,
   "metadata": {},
   "outputs": [
    {
     "name": "stdout",
     "output_type": "stream",
     "text": [
      "The accuracy on the training data is  98.8804 %\n",
      "The accuracy on the test data is  95.5193 %\n"
     ]
    }
   ],
   "source": [
    "KNN_tuned.fit(Xtrain, Ytrain)\n",
    "Y_train_pred_KNN_tuned=KNN_tuned.predict(Xtrain)\n",
    "print('The accuracy on the training data is ',np.round(metrics.accuracy_score(Ytrain,Y_train_pred_KNN_tuned)*100, decimals = 4), '%')\n",
    "Y_test_pred_KNN_tuned=KNN_tuned.predict(Xtest)\n",
    "print('The accuracy on the test data is ',np.round(metrics.accuracy_score(Ytest,Y_test_pred_KNN_tuned)*100, decimals = 4), '%')"
   ]
  },
  {
   "cell_type": "markdown",
   "metadata": {},
   "source": [
    "<i>Here both train and test accuracy are very close and high at the same time but overfitting is clearly apearent</i>"
   ]
  },
  {
   "cell_type": "code",
   "execution_count": 39,
   "metadata": {},
   "outputs": [
    {
     "data": {
      "image/png": "[encoded data removed]",
      "text/plain": [
       "<Figure size 432x288 with 2 Axes>"
      ]
     },
     "metadata": {},
     "output_type": "display_data"
    }
   ],
   "source": [
    "sns.set(rc = {'figure.figsize':(6,4)})\n",
    "cm = metrics.confusion_matrix(Ytest,Y_test_pred_KNN_tuned)\n",
    "ax = sns.heatmap(cm,annot=True, cmap=\"Blues\", fmt = '')\n",
    "plt.xlabel('Predicted Values')\n",
    "plt.ylabel('Actual Values')\n",
    "plt.show()"
   ]
  },
  {
   "cell_type": "markdown",
   "metadata": {},
   "source": [
    "<h3>Checking performance of the base SVM model</h3>"
   ]
  },
  {
   "cell_type": "markdown",
   "metadata": {},
   "source": [
    "<b>Train and test accuracy</b>"
   ]
  },
  {
   "cell_type": "code",
   "execution_count": 40,
   "metadata": {},
   "outputs": [
    {
     "name": "stdout",
     "output_type": "stream",
     "text": [
      "The accuracy on the training data is  96.6921 %\n",
      "The accuracy on the test data is  95.112 %\n"
     ]
    }
   ],
   "source": [
    "SVM.fit(Xtrain, Ytrain)\n",
    "Y_train_pred_SVM=SVM.predict(Xtrain)\n",
    "print('The accuracy on the training data is ',np.round(metrics.accuracy_score(Ytrain,Y_train_pred_SVM)*100, decimals = 4), '%')\n",
    "Y_test_pred_SVM=SVM.predict(Xtest)\n",
    "print('The accuracy on the test data is ',np.round(metrics.accuracy_score(Ytest,Y_test_pred_SVM)*100, decimals = 4), '%')"
   ]
  },
  {
   "cell_type": "code",
   "execution_count": 41,
   "metadata": {},
   "outputs": [
    {
     "data": {
      "image/png": "[encoded data removed]",
      "text/plain": [
       "<Figure size 432x288 with 2 Axes>"
      ]
     },
     "metadata": {},
     "output_type": "display_data"
    }
   ],
   "source": [
    "sns.set(rc = {'figure.figsize':(6,4)})\n",
    "cm = metrics.confusion_matrix(Ytest,Y_test_pred_SVM)\n",
    "ax = sns.heatmap(cm,annot=True, cmap=\"Blues\", fmt = '')\n",
    "plt.xlabel('Predicted Values')\n",
    "plt.ylabel('Actual Values')\n",
    "plt.show()"
   ]
  },
  {
   "cell_type": "markdown",
   "metadata": {},
   "source": [
    "<i>Here both train and test accuracy are very close and high at the same time but no major overfitting is apearent. We shall consider the best model so far.</i>"
   ]
  },
  {
   "cell_type": "markdown",
   "metadata": {},
   "source": [
    "<h3>Fitting tuned ensemble models for enhanced prediction </h3>"
   ]
  },
  {
   "cell_type": "markdown",
   "metadata": {},
   "source": [
    "<b>Defining the parameters to be tuned</b>"
   ]
  },
  {
   "cell_type": "code",
   "execution_count": 42,
   "metadata": {},
   "outputs": [],
   "source": [
    "from sklearn.ensemble import RandomForestClassifier, AdaBoostClassifier\n",
    "RF=RandomForestClassifier()\n",
    "AB=AdaBoostClassifier()\n",
    "params_rf={'criterion':['entropy','gini'], 'max_features':['auto', 'sqrt', 'log2']}\n",
    "params_ab={'algorithm':['SAMME.R', 'SAMME'], 'n_estimators':np.arange(40,60) }\n",
    "GS_rf=GridSearchCV(RF,params_rf,cv=5,scoring='recall')\n",
    "GS_ab=GridSearchCV(AB,params_ab,cv=5,scoring='recall')"
   ]
  },
  {
   "cell_type": "markdown",
   "metadata": {},
   "source": [
    "<b>Fitting the parameters</b>`"
   ]
  },
  {
   "cell_type": "code",
   "execution_count": 43,
   "metadata": {},
   "outputs": [
    {
     "data": {
      "text/plain": [
       "GridSearchCV(cv=5, error_score=nan,\n",
       "             estimator=RandomForestClassifier(bootstrap=True, ccp_alpha=0.0,\n",
       "                                              class_weight=None,\n",
       "                                              criterion='gini', max_depth=None,\n",
       "                                              max_features='auto',\n",
       "                                              max_leaf_nodes=None,\n",
       "                                              max_samples=None,\n",
       "                                              min_impurity_decrease=0.0,\n",
       "                                              min_impurity_split=None,\n",
       "                                              min_samples_leaf=1,\n",
       "                                              min_samples_split=2,\n",
       "                                              min_weight_fraction_leaf=0.0,\n",
       "                                              n_estimators=100, n_jobs=None,\n",
       "                                              oob_score=False,\n",
       "                                              random_state=None, verbose=0,\n",
       "                                              warm_start=False),\n",
       "             iid='deprecated', n_jobs=None,\n",
       "             param_grid={'criterion': ['entropy', 'gini'],\n",
       "                         'max_features': ['auto', 'sqrt', 'log2']},\n",
       "             pre_dispatch='2*n_jobs', refit=True, return_train_score=False,\n",
       "             scoring='recall', verbose=0)"
      ]
     },
     "execution_count": 43,
     "metadata": {},
     "output_type": "execute_result"
    }
   ],
   "source": [
    "GS_rf.fit(X,Y)"
   ]
  },
  {
   "cell_type": "code",
   "execution_count": 44,
   "metadata": {},
   "outputs": [
    {
     "data": {
      "text/plain": [
       "GridSearchCV(cv=5, error_score=nan,\n",
       "             estimator=AdaBoostClassifier(algorithm='SAMME.R',\n",
       "                                          base_estimator=None,\n",
       "                                          learning_rate=1.0, n_estimators=50,\n",
       "                                          random_state=None),\n",
       "             iid='deprecated', n_jobs=None,\n",
       "             param_grid={'algorithm': ['SAMME.R', 'SAMME'],\n",
       "                         'n_estimators': array([40, 41, 42, 43, 44, 45, 46, 47, 48, 49, 50, 51, 52, 53, 54, 55, 56,\n",
       "       57, 58, 59])},\n",
       "             pre_dispatch='2*n_jobs', refit=True, return_train_score=False,\n",
       "             scoring='recall', verbose=0)"
      ]
     },
     "execution_count": 44,
     "metadata": {},
     "output_type": "execute_result"
    }
   ],
   "source": [
    "GS_ab.fit(X,Y)"
   ]
  },
  {
   "cell_type": "markdown",
   "metadata": {},
   "source": [
    "<b>Finding the best-params</b>"
   ]
  },
  {
   "cell_type": "code",
   "execution_count": 45,
   "metadata": {},
   "outputs": [
    {
     "name": "stdout",
     "output_type": "stream",
     "text": [
      "Best parameter for RF classifier:  {'criterion': 'gini', 'max_features': 'log2'}\n"
     ]
    }
   ],
   "source": [
    "print('Best parameter for RF classifier: ', GS_rf.best_params_)"
   ]
  },
  {
   "cell_type": "code",
   "execution_count": 46,
   "metadata": {},
   "outputs": [
    {
     "name": "stdout",
     "output_type": "stream",
     "text": [
      "Best parameter for AB classifier:  {'criterion': 'gini', 'max_depth': 9}\n"
     ]
    }
   ],
   "source": [
    "print('Best parameter for AB classifier: ', GS_dt.best_params_)"
   ]
  },
  {
   "cell_type": "markdown",
   "metadata": {},
   "source": [
    "<b>Defining the tuned models with best params</b>"
   ]
  },
  {
   "cell_type": "code",
   "execution_count": 47,
   "metadata": {},
   "outputs": [],
   "source": [
    "RF_tuned=RandomForestClassifier(criterion='entropy', max_features='sqrt', max_leaf_nodes=99999)\n",
    "AB_tuned=AdaBoostClassifier(algorithm='SAMME')"
   ]
  },
  {
   "cell_type": "markdown",
   "metadata": {},
   "source": [
    "<b>Cross-validating all the models so far</b>"
   ]
  },
  {
   "cell_type": "code",
   "execution_count": 48,
   "metadata": {},
   "outputs": [
    {
     "name": "stdout",
     "output_type": "stream",
     "text": [
      "Logit: 0.941352 (0.000276)\n",
      "Ridge: 0.940959 (0.000229)\n",
      "Decisiion Tree: 0.962945 (0.000171)\n",
      "Naive Bayes: 0.923858 (0.000096)\n",
      "KNN: 0.945445 (0.000353)\n",
      "SVM: 0.958065 (0.000239)\n",
      "Tuned Decision Tree: 0.958465 (0.000191)\n",
      "Tuned KNN: 0.968651 (0.000191)\n",
      "Tuned RF: 0.964176 (0.000234)\n",
      "Tuned AB: 0.944621 (0.000237)\n"
     ]
    },
    {
     "data": {
      "image/png": "[encoded data removed]",
      "text/plain": [
       "<Figure size 1080x360 with 1 Axes>"
      ]
     },
     "metadata": {},
     "output_type": "display_data"
    }
   ],
   "source": [
    "from sklearn.model_selection import KFold\n",
    "from sklearn.model_selection import cross_val_score\n",
    "#evaluate each model in turn\n",
    "results=[]\n",
    "names=[]\n",
    "for model,name in zip([LR, RD, DT, NB, KNN, SVM, DT_tuned,KNN_tuned, RF_tuned, AB_tuned ],['Logit','Ridge', 'Decisiion Tree','Naive Bayes','KNN', \n",
    "                                                                   'SVM', 'Tuned Decision Tree', 'Tuned KNN', 'Tuned RF', 'Tuned AB']):    \n",
    "    kfold=KFold(shuffle=True,n_splits=10,random_state=0)\n",
    "    cv_results=cross_val_score(model,X,Y,cv=kfold,scoring='accuracy')\n",
    "    results.append(cv_results)\n",
    "    names.append(name)\n",
    "    print('%s: %f (%f)' % (name,np.mean(cv_results),np.var(cv_results,ddof=1)))\n",
    "    #boxplot algorithm comparision\n",
    "sns.set(rc={'figure.figsize':(15,5)})\n",
    "fig=plt.figure()\n",
    "fig.suptitle('Algorithm Comparision')\n",
    "ax=fig.add_subplot(111)\n",
    "plt.boxplot(results)\n",
    "ax.set_xticklabels(names)\n",
    "plt.show()"
   ]
  },
  {
   "cell_type": "markdown",
   "metadata": {},
   "source": [
    "<h3>Checking performance of the tuned RF model</h3>"
   ]
  },
  {
   "cell_type": "markdown",
   "metadata": {},
   "source": [
    "<b>Train and test accuracy</b>"
   ]
  },
  {
   "cell_type": "code",
   "execution_count": 49,
   "metadata": {},
   "outputs": [
    {
     "name": "stdout",
     "output_type": "stream",
     "text": [
      "The accuracy on the training data is  98.9822 %\n",
      "The accuracy on the test data is  96.334 %\n"
     ]
    }
   ],
   "source": [
    "RF_tuned.fit(Xtrain, Ytrain)\n",
    "Y_train_pred_RF_tuned=RF_tuned.predict(Xtrain)\n",
    "print('The accuracy on the training data is ',np.round(metrics.accuracy_score(Ytrain,Y_train_pred_RF_tuned)*100, decimals = 4), '%')\n",
    "Y_test_pred_RF_tuned=RF_tuned.predict(Xtest)\n",
    "print('The accuracy on the test data is ',np.round(metrics.accuracy_score(Ytest,Y_test_pred_RF_tuned)*100, decimals = 4), '%')"
   ]
  },
  {
   "cell_type": "code",
   "execution_count": 50,
   "metadata": {},
   "outputs": [
    {
     "data": {
      "image/png": "[encoded data removed]",
      "text/plain": [
       "<Figure size 432x288 with 2 Axes>"
      ]
     },
     "metadata": {},
     "output_type": "display_data"
    }
   ],
   "source": [
    "sns.set(rc = {'figure.figsize':(6,4)})\n",
    "cm = metrics.confusion_matrix(Ytest,Y_test_pred_RF_tuned)\n",
    "ax = sns.heatmap(cm,annot=True, cmap=\"Blues\", fmt = '')\n",
    "plt.xlabel('Predicted Values')\n",
    "plt.ylabel('Actual Values')\n",
    "plt.show()"
   ]
  },
  {
   "cell_type": "code",
   "execution_count": 51,
   "metadata": {},
   "outputs": [
    {
     "name": "stdout",
     "output_type": "stream",
     "text": [
      "The Sensitivity / Recall / TPR of the model is  95.5157 %\n",
      "The Specificity of the model is  97.0149 %\n",
      "The f1-score of the model is  0.9595\n"
     ]
    }
   ],
   "source": [
    "tpr=cm[1,1]/cm[1,:].sum()\n",
    "print('The Sensitivity / Recall / TPR of the model is ',np.round(tpr*100, decimals = 4), '%')\n",
    "tnr=cm[0,0]/cm[0,:].sum()\n",
    "print('The Specificity of the model is ',np.round(tnr*100, decimals = 4), '%')\n",
    "print('The f1-score of the model is ',np.round(metrics.f1_score(Ytest,Y_test_pred_RF_tuned), decimals = 4))"
   ]
  },
  {
   "cell_type": "markdown",
   "metadata": {},
   "source": [
    "<i>So, a tuned RF with the parameters {'criterion': 'entropy', 'max_features': 'sqrt'} remains to be our final model returning a 10-fold cross-validation accuracy of about 96.67 % on the train set. Also, the recall of the model is about 96 % while the sensitivity is about 97 %. </i>"
   ]
  },
  {
   "cell_type": "code",
   "execution_count": null,
   "metadata": {},
   "outputs": [],
   "source": []
  }
 ],
 "metadata": {
  "kernelspec": {
   "display_name": "Python 3",
   "language": "python",
   "name": "python3"
  },
  "language_info": {
   "codemirror_mode": {
    "name": "ipython",
    "version": 3
   },
   "file_extension": ".py",
   "mimetype": "text/x-python",
   "name": "python",
   "nbconvert_exporter": "python",
   "pygments_lexer": "ipython3",
   "version": "3.7.6"
  }
 },
 "nbformat": 4,
 "nbformat_minor": 4
}
